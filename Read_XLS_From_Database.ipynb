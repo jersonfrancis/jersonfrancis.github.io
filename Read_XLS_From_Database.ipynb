{
 "cells": [
  {
   "cell_type": "code",
   "execution_count": null,
   "id": "05eceb3d",
   "metadata": {},
   "outputs": [],
   "source": [
    "from sqlalchemy.types import DATE, VARCHAR, INTEGER, FLOAT\n",
    "import db_connection as db\n",
    "import pandas as pd\n",
    "import getpass\n",
    "\n",
    "pw = getpass.getpass(prompt='Enter Password: ', stream=None)\n",
    "conn = db.create_db_engine('username', pw)\n",
    "\n",
    "#query = ‘’’ select * from beks_table ‘’’\n",
    "df = pd.read_excel(r'insert_path.xlsx', sheet_name='Sheet1')\n",
    "df.columns = ['column_1', \n",
    "              'column_2', \n",
    "              'column_3', \n",
    "              'column_4', \n",
    "              'column_5']\n",
    "\n",
    "df['column'] = df['column'].astype(str) #convert\n",
    "#df.columns = df.columns.str.lower().replace('.', '_')\n",
    "df_dtypes = {\n",
    "    'column_1':VARCHAR(64),\n",
    "    'column_2':VARCHAR(64),\n",
    "    'column_3':VARCHAR(64),\n",
    "    'column_4':VARCHAR(64),\n",
    "    'column_5':DATE\n",
    "    }\n",
    "\n",
    "for col in df.columns: \n",
    "    if col not in list(df_dtypes.keys()):\n",
    "        print('Missing %s' % col)\n",
    "df.to_sql('insert_table_name', conn, if_exists='replace', index=False, dtype=df_dtypes)\n",
    "print(len(df))\n",
    "\n",
    "#display(df)"
   ]
  }
 ],
 "metadata": {
  "kernelspec": {
   "display_name": "Python 3 (ipykernel)",
   "language": "python",
   "name": "python3"
  },
  "language_info": {
   "codemirror_mode": {
    "name": "ipython",
    "version": 3
   },
   "file_extension": ".py",
   "mimetype": "text/x-python",
   "name": "python",
   "nbconvert_exporter": "python",
   "pygments_lexer": "ipython3",
   "version": "3.9.12"
  },
  "vscode": {
   "interpreter": {
    "hash": "a4f6759c823c4387fdd0c9e0a24dce70b7b14f9ae16eba99f43f795e467220c4"
   }
  }
 },
 "nbformat": 4,
 "nbformat_minor": 5
}
