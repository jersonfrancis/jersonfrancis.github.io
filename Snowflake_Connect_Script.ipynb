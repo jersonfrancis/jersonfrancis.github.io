{
 "cells": [
  {
   "cell_type": "code",
   "execution_count": null,
   "metadata": {},
   "outputs": [],
   "source": [
    "#import modules\n",
    "import snowflake.connector\n",
    "import os, pandas as pd\n",
    "import getpass\n",
    "import sqlalchemy as db\n",
    "\n",
    "#password prompt\n",
    "sfpassword = getpass.getpass(prompt='Enter Password: ', stream = None)\n",
    "\n",
    "#create connection from stored variables\n",
    "conn = snowflake.connector.connect( \n",
    "    user = 'user_name', \n",
    "    password = sfpassword, \n",
    "    account = 'server_name', \n",
    "    warehouse = 'warehouse_name')\n",
    "\n",
    "#test query from snowflake\n",
    "query = pd.read_sql(\"SELECT * FROM YOUR_TABLE LIMIT 50\", conn)\n",
    "display(query)"
   ]
  },
  {
   "cell_type": "code",
   "execution_count": null,
   "metadata": {},
   "outputs": [],
   "source": [
    "#Close connection\n",
    "conn.close_connect()"
   ]
  }
 ],
 "metadata": {
  "kernelspec": {
   "display_name": "Python 3 (ipykernel)",
   "language": "python",
   "name": "python3"
  },
  "language_info": {
   "codemirror_mode": {
    "name": "ipython",
    "version": 3
   },
   "file_extension": ".py",
   "mimetype": "text/x-python",
   "name": "python",
   "nbconvert_exporter": "python",
   "pygments_lexer": "ipython3",
   "version": "3.10.5"
  },
  "varInspector": {
   "cols": {
    "lenName": 16,
    "lenType": 16,
    "lenVar": 40
   },
   "kernels_config": {
    "python": {
     "delete_cmd_postfix": "",
     "delete_cmd_prefix": "del ",
     "library": "var_list.py",
     "varRefreshCmd": "print(var_dic_list())"
    },
    "r": {
     "delete_cmd_postfix": ") ",
     "delete_cmd_prefix": "rm(",
     "library": "var_list.r",
     "varRefreshCmd": "cat(var_dic_list()) "
    }
   },
   "types_to_exclude": [
    "module",
    "function",
    "builtin_function_or_method",
    "instance",
    "_Feature"
   ],
   "window_display": false
  }
 },
 "nbformat": 4,
 "nbformat_minor": 4
}
