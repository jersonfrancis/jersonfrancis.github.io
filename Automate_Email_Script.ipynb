{
 "cells": [
  {
   "cell_type": "code",
   "execution_count": null,
   "id": "ed0bf95e-043a-4f83-9495-40295e3d74e0",
   "metadata": {
    "tags": []
   },
   "outputs": [],
   "source": [
    "import your_connection as conn\n",
    "import pandas as pd\n",
    "from win32com.client import DispatchEx\n",
    "from win32com.client import Dispatch\n",
    "import sys\n",
    "import os\n",
    "from datetime import datetime\n",
    "\n",
    "db_conn = conn.create_edw_engine('username', 'password')\n",
    "query = '''\n",
    "SELECT * FROM YOUR_TABLE\n",
    "'''\n",
    "df = pd.read_sql(query, db_conn)\n",
    "df.columns = ['insert_column_names']\n",
    "df.to_csv('./csv_file_name_%s_%s.csv' % (datetime.today().strftime('%Y%m%d'), datetime.today().strftime('%H%M')), index = False)\n",
    "\n",
    "attachment1 = r'.\\csv_file_name_%s_%s.csv' % (datetime.today().strftime('%Y%m%d'), datetime.today().strftime('%H%M'))\n",
    "outlook = Dispatch('outlook.application')\n",
    "mail = outlook.CreateItem(0)\n",
    "if os.path.isfile(attachment1):\n",
    "    mail.To = '''email_address@gmail.com'''\n",
    "    mail.HTMLBody = '''<p>Enter Body Text</p>'''\n",
    "    mail.Subject = \"Enter Heading Text\"\n",
    "    mail.Attachments.Add(attachment1)\n",
    "    mail.Send()\n",
    "else:\n",
    "    print(\"Error: File is not present in the folder.\")\n",
    "\n",
    "print('SuccessL Spooled output file, process complete.')"
   ]
  }
 ],
 "metadata": {
  "kernelspec": {
   "display_name": "Python 3 (ipykernel)",
   "language": "python",
   "name": "python3"
  },
  "language_info": {
   "codemirror_mode": {
    "name": "ipython",
    "version": 3
   },
   "file_extension": ".py",
   "mimetype": "text/x-python",
   "name": "python",
   "nbconvert_exporter": "python",
   "pygments_lexer": "ipython3",
   "version": "3.9.12"
  }
 },
 "nbformat": 4,
 "nbformat_minor": 5
}
