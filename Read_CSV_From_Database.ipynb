{
 "cells": [
  {
   "cell_type": "code",
   "execution_count": null,
   "id": "630e0f9e-e99e-4401-810f-88c6b09b5d3e",
   "metadata": {},
   "outputs": [],
   "source": [
    "import pandas as pd\n",
    "import db_connection as db"
   ]
  },
  {
   "cell_type": "code",
   "execution_count": null,
   "id": "b405e086-b994-4970-b5ca-5a6b7f445ea7",
   "metadata": {},
   "outputs": [],
   "source": [
    "df = pd.read_csv(r'insert_path.csv')\n",
    "df"
   ]
  },
  {
   "cell_type": "code",
   "execution_count": null,
   "id": "82efe4c2-3e96-4e02-b3b5-6bafbdfa5650",
   "metadata": {
    "tags": []
   },
   "outputs": [],
   "source": [
    "df = df.loc[:, ~df.columns.str.contains('^unnamed')]\n",
    "df"
   ]
  },
  {
   "cell_type": "code",
   "execution_count": null,
   "id": "b525f859-7158-4507-b112-5b787164acc3",
   "metadata": {
    "tags": []
   },
   "outputs": [],
   "source": [
    "df.columns = df.columns.str.replace(' ', '_')\n",
    "df.columns = df.columns.str.lower()\n",
    "df"
   ]
  },
  {
   "cell_type": "code",
   "execution_count": null,
   "id": "87734ee0-3795-4c9a-9f65-45c8ee407a28",
   "metadata": {},
   "outputs": [],
   "source": [
    "#import pandas as pd\n",
    "#import db_connection as db\n",
    "from sqlalchemy.types import DATE, VARCHAR, INTEGER\n",
    "df_dtypes = {\n",
    "    'column1':VARCHAR(30),\n",
    "    'column2':VARCHAR(64),\n",
    "    'column3':VARCHAR(64),\n",
    "    'column4':VARCHAR(64),\n",
    "    'column5':VARCHAR(64)\n",
    "    }\n",
    "for col in df.columns:\n",
    "    if col not in list(df_dtypes.keys()):\n",
    "        print('Missing %s' % col)"
   ]
  },
  {
   "cell_type": "code",
   "execution_count": null,
   "id": "c7c1b381-64cc-41d5-8912-923605dd1191",
   "metadata": {},
   "outputs": [],
   "source": [
    "db_conn = db.create_db_engine('username', 'password')\n",
    "df.to_sql('table_name', db_conn, if_exists='replace', index=False, dtype=df_dtypes)"
   ]
  }
 ],
 "metadata": {
  "kernelspec": {
   "display_name": "Python 3 (ipykernel)",
   "language": "python",
   "name": "python3"
  },
  "language_info": {
   "codemirror_mode": {
    "name": "ipython",
    "version": 3
   },
   "file_extension": ".py",
   "mimetype": "text/x-python",
   "name": "python",
   "nbconvert_exporter": "python",
   "pygments_lexer": "ipython3",
   "version": "3.9.12"
  }
 },
 "nbformat": 4,
 "nbformat_minor": 5
}
