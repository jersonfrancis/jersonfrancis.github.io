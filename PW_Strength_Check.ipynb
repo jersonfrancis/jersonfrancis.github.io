{
 "cells": [
  {
   "cell_type": "code",
   "execution_count": null,
   "id": "61cc280f",
   "metadata": {},
   "outputs": [],
   "source": [
    "def checkPassword(password):\n",
    "    upperChars, lowerChars, specialChars, digits, length = 0, 0, 0, 0, 0\n",
    "    length = len(password)\n",
    "\n",
    "    if (length < 8):\n",
    "        print(\"Password must be at least 8 characters long!\")\n",
    "    else:\n",
    "        for i in range(0, length):\n",
    "            if (password[i].isupper()):\n",
    "                upperChars += 1\n",
    "            elif (password[i].islower()):\n",
    "                lowerChars += 1\n",
    "            elif (password[i].isdigit()):\n",
    "                digits += 1\n",
    "            else:\n",
    "                specialChars += 1\n",
    "\n",
    "    if (upperChars != 0 and lowerChars != 0 and digits != 0 and specialChars != 0):\n",
    "        if (length >= 10):\n",
    "            print(\"The strength of password is strong.\\n\")\n",
    "        else:\n",
    "            print(\"The strength of password is medium.\\n\")\n",
    "    else:\n",
    "        if (digits == 0):\n",
    "            print(\"Password must contain at least one digit character!\")\n",
    "        if (specialChars == 0):\n",
    "            print(\"Password must contain at least one special character!\")\n",
    "        if (upperChars == 0):\n",
    "            print(\"Password must contain at least one uppercase character!\")\n",
    "        if (lowerChars == 0):\n",
    "            print(\"Password must contain at least one lowercase character!\")\n",
    "\n",
    "password = input(\"Please enter password: \")\n",
    "checkPassword(password)"
   ]
  }
 ],
 "metadata": {
  "kernelspec": {
   "display_name": "Python 3 (ipykernel)",
   "language": "python",
   "name": "python3"
  },
  "language_info": {
   "codemirror_mode": {
    "name": "ipython",
    "version": 3
   },
   "file_extension": ".py",
   "mimetype": "text/x-python",
   "name": "python",
   "nbconvert_exporter": "python",
   "pygments_lexer": "ipython3",
   "version": "3.11.5"
  }
 },
 "nbformat": 4,
 "nbformat_minor": 5
}
