{
 "cells": [
  {
   "cell_type": "code",
   "execution_count": null,
   "id": "50558002",
   "metadata": {},
   "outputs": [],
   "source": [
    "import requests\n",
    "from bs4 import BeautifulSoup\n",
    "\n",
    "def scrape_quotes(max_length=100):\n",
    "    # Specify the URL of the website you want to scrape\n",
    "    url = 'http://quotes.toscrape.com'\n",
    "    \n",
    "    # Send a GET request to the URL\n",
    "    response = requests.get(url)\n",
    "    \n",
    "    # Check if the request was successful (status code 200)\n",
    "    if response.status_code == 200:\n",
    "        # Parse the HTML content of the page\n",
    "        soup = BeautifulSoup(response.content, 'html.parser')\n",
    "        \n",
    "        # Extract information from the HTML\n",
    "        quotes = soup.find_all('span', class_='text')\n",
    "        \n",
    "        # Display the scraped quotes with a maximum length constraint\n",
    "        for i, quote in enumerate(quotes, 1):\n",
    "            quote_text = quote.get_text().strip()\n",
    "            if len(quote_text) <= max_length:\n",
    "                print(f\"Quote {i}: {quote_text}\\n\")\n",
    "    else:\n",
    "        print(f\"Failed to retrieve the page. Status code: {response.status_code}\")\n",
    "\n",
    "if __name__ == \"__main__\":\n",
    "    # Set the maximum length for quotes (adjust as needed)\n",
    "    max_length = 80\n",
    "    scrape_quotes(max_length)"
   ]
  }
 ],
 "metadata": {
  "kernelspec": {
   "display_name": "Python 3 (ipykernel)",
   "language": "python",
   "name": "python3"
  },
  "language_info": {
   "codemirror_mode": {
    "name": "ipython",
    "version": 3
   },
   "file_extension": ".py",
   "mimetype": "text/x-python",
   "name": "python",
   "nbconvert_exporter": "python",
   "pygments_lexer": "ipython3",
   "version": "3.11.5"
  }
 },
 "nbformat": 4,
 "nbformat_minor": 5
}
